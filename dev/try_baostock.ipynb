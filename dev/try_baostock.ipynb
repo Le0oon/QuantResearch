{
 "cells": [
  {
   "cell_type": "code",
   "execution_count": 55,
   "metadata": {},
   "outputs": [],
   "source": [
    "import baostock as bs\n",
    "import pandas as pd\n"
   ]
  },
  {
   "cell_type": "code",
   "execution_count": 71,
   "metadata": {},
   "outputs": [],
   "source": []
  },
  {
   "cell_type": "code",
   "execution_count": 6,
   "metadata": {},
   "outputs": [
    {
     "name": "stdout",
     "output_type": "stream",
     "text": [
      "login success!\n"
     ]
    }
   ],
   "source": [
    "lg = bs.login()\n"
   ]
  },
  {
   "cell_type": "code",
   "execution_count": 48,
   "metadata": {},
   "outputs": [],
   "source": [
    "rs = bs.query_history_k_data_plus(\"sh.600000\",\n",
    "    \"date,time,code,open,high,low,close,volume,amount,adjustflag\",\n",
    "    start_date='2023-07-01', end_date='2023-08-10',\n",
    "    frequency=\"5\", adjustflag=\"3\")"
   ]
  },
  {
   "cell_type": "code",
   "execution_count": null,
   "metadata": {},
   "outputs": [],
   "source": [
    "from sqlalchemy import create_engine, Column, Integer, String, DateTime, Float\n",
    "from sqlalchemy.ext.declarative import declarative_base\n",
    "from sqlalchemy.orm import sessionmaker\n"
   ]
  },
  {
   "cell_type": "code",
   "execution_count": 84,
   "metadata": {},
   "outputs": [],
   "source": [
    "Base = declarative_base()\n",
    "\n",
    "class StockData(Base):\n",
    "    __tablename__ = 'stock_data'\n",
    "    id = Column(Integer, primary_key=True,autoincrement=True)\n",
    "    TradingDay = Column(DateTime)\n",
    "    SecuCode = Column(String(255))\n",
    "    Time = Column(DateTime)\n",
    "    open = Column(Float)\n",
    "    high = Column(Float)\n",
    "    low = Column(Float)\n",
    "    close = Column(Float)\n",
    "    volume = Column(Float)\n",
    "    amount = Column(Float)\n",
    "    adjustflag = Column(String(255))\n",
    "\n",
    "# Create the table\n",
    "Base.metadata.create_all(engine)\n"
   ]
  },
  {
   "cell_type": "code",
   "execution_count": 88,
   "metadata": {},
   "outputs": [
    {
     "data": {
      "text/plain": [
       "('stock_data',)"
      ]
     },
     "execution_count": 88,
     "metadata": {},
     "output_type": "execute_result"
    }
   ],
   "source": [
    "\n",
    "conn = engine.connect()\n",
    "conn.execute(\"SHOW TABLES\").fetchone()\n"
   ]
  },
  {
   "cell_type": "code",
   "execution_count": 93,
   "metadata": {},
   "outputs": [
    {
     "data": {
      "text/plain": [
       "[('stock_data',), ('stock_data_test',)]"
      ]
     },
     "execution_count": 93,
     "metadata": {},
     "output_type": "execute_result"
    }
   ],
   "source": [
    "conn.execute(\"SHOW TABLES\").fetchall()"
   ]
  },
  {
   "cell_type": "code",
   "execution_count": 94,
   "metadata": {},
   "outputs": [
    {
     "data": {
      "text/plain": [
       "1296"
      ]
     },
     "execution_count": 94,
     "metadata": {},
     "output_type": "execute_result"
    }
   ],
   "source": [
    "df.to_sql('stock_data_test', con=engine, if_exists='append', index=False)"
   ]
  },
  {
   "cell_type": "code",
   "execution_count": 96,
   "metadata": {},
   "outputs": [
    {
     "data": {
      "text/plain": [
       "id                     int64\n",
       "TradingDay    datetime64[ns]\n",
       "SecuCode              object\n",
       "Time          datetime64[ns]\n",
       "open                 float64\n",
       "high                 float64\n",
       "low                  float64\n",
       "close                float64\n",
       "volume               float64\n",
       "amount               float64\n",
       "adjustflag            object\n",
       "dtype: object"
      ]
     },
     "execution_count": 96,
     "metadata": {},
     "output_type": "execute_result"
    }
   ],
   "source": [
    "rst = pd.read_sql('SELECT * FROM stock_data_test',engine)\n",
    "rst.dtypes"
   ]
  },
  {
   "cell_type": "code",
   "execution_count": 70,
   "metadata": {},
   "outputs": [
    {
     "data": {
      "text/plain": [
       "TradingDay    datetime64[ns]\n",
       "SecuCode              object\n",
       "Time          datetime64[ns]\n",
       "open                  object\n",
       "high                  object\n",
       "low                   object\n",
       "close                 object\n",
       "volume                object\n",
       "amount                object\n",
       "adjustflag            object\n",
       "dtype: object"
      ]
     },
     "execution_count": 70,
     "metadata": {},
     "output_type": "execute_result"
    }
   ],
   "source": [
    "# df = rs.get_data()\n",
    "# df['TradingDay'] = df['date'].astype('datetime64[ns]')\n",
    "# df['Time'] = pd.to_datetime(df.time, format='%Y%m%d%H%M%S%f')\n",
    "# df['SecuCode'] = df['code'].str[3:]\n",
    "df = df[['TradingDay', 'SecuCode', 'Time','open', 'high', 'low', 'close', 'volume','amount', 'adjustflag']]\n",
    "df.dtypes"
   ]
  },
  {
   "cell_type": "code",
   "execution_count": 4,
   "metadata": {},
   "outputs": [],
   "source": [
    "from sqlalchemy.dialects.mysql import INTEGER, VARCHAR\n",
    "from sqlalchemy import Column\n",
    "from sqlalchemy import create_engine\n",
    "from sqlalchemy.ext.declarative import declarative_base\n",
    "Base = declarative_base()\n",
    "\n",
    "\n",
    "# users表结构\n",
    "class Users(Base):\n",
    "    __tablename__ = 'users'\n",
    "\n",
    "    id = Column(INTEGER, primary_key=True)\n",
    "    name = Column(VARCHAR(256), nullable=False)\n",
    "    age = Column(INTEGER)\n",
    "    place = Column(VARCHAR(256), nullable=False)\n",
    "\n",
    "\n",
    "    def __init__(self, id, name, age, place):\n",
    "        self.id = id\n",
    "        self.name = name\n",
    "        self.age = age\n",
    "        self.place = place\n",
    "\n",
    "def init_db():\n",
    "    engine = create_engine(\n",
    "        \"mysql+pymysql://root:@localhost:3306/orm_test\",\n",
    "        encoding= \"utf-8\",\n",
    "        echo=True\n",
    "    )\n",
    "    Base.metadata.create_all(engine)\n",
    "    print('Create table successfully!')\n",
    "\n",
    "engine=create_engine( \"mysql+pymysql://root:@localhost:3306/baostock\")\n",
    "\n",
    "\n"
   ]
  },
  {
   "cell_type": "code",
   "execution_count": 48,
   "metadata": {},
   "outputs": [
    {
     "ename": "OperationalError",
     "evalue": "(2003, \"Can't connect to MySQL server on '127.0.0.1' ([WinError 10061] 由于目标计算机积极拒绝，无法连接。)\")",
     "output_type": "error",
     "traceback": [
      "\u001b[1;31m---------------------------------------------------------------------------\u001b[0m",
      "\u001b[1;31mConnectionRefusedError\u001b[0m                    Traceback (most recent call last)",
      "File \u001b[1;32mc:\\Users\\Administrator\\.conda\\envs\\finance39\\lib\\site-packages\\pymysql\\connections.py:644\u001b[0m, in \u001b[0;36mConnection.connect\u001b[1;34m(self, sock)\u001b[0m\n\u001b[0;32m    643\u001b[0m \u001b[39mtry\u001b[39;00m:\n\u001b[1;32m--> 644\u001b[0m     sock \u001b[39m=\u001b[39m socket\u001b[39m.\u001b[39mcreate_connection(\n\u001b[0;32m    645\u001b[0m         (\u001b[39mself\u001b[39m\u001b[39m.\u001b[39mhost, \u001b[39mself\u001b[39m\u001b[39m.\u001b[39mport), \u001b[39mself\u001b[39m\u001b[39m.\u001b[39mconnect_timeout, \u001b[39m*\u001b[39m\u001b[39m*\u001b[39mkwargs\n\u001b[0;32m    646\u001b[0m     )\n\u001b[0;32m    647\u001b[0m     \u001b[39mbreak\u001b[39;00m\n",
      "File \u001b[1;32mc:\\Users\\Administrator\\.conda\\envs\\finance39\\lib\\socket.py:844\u001b[0m, in \u001b[0;36mcreate_connection\u001b[1;34m(address, timeout, source_address)\u001b[0m\n\u001b[0;32m    843\u001b[0m \u001b[39mtry\u001b[39;00m:\n\u001b[1;32m--> 844\u001b[0m     \u001b[39mraise\u001b[39;00m err\n\u001b[0;32m    845\u001b[0m \u001b[39mfinally\u001b[39;00m:\n\u001b[0;32m    846\u001b[0m     \u001b[39m# Break explicitly a reference cycle\u001b[39;00m\n",
      "File \u001b[1;32mc:\\Users\\Administrator\\.conda\\envs\\finance39\\lib\\socket.py:832\u001b[0m, in \u001b[0;36mcreate_connection\u001b[1;34m(address, timeout, source_address)\u001b[0m\n\u001b[0;32m    831\u001b[0m     sock\u001b[39m.\u001b[39mbind(source_address)\n\u001b[1;32m--> 832\u001b[0m sock\u001b[39m.\u001b[39;49mconnect(sa)\n\u001b[0;32m    833\u001b[0m \u001b[39m# Break explicitly a reference cycle\u001b[39;00m\n",
      "\u001b[1;31mConnectionRefusedError\u001b[0m: [WinError 10061] 由于目标计算机积极拒绝，无法连接。",
      "\nDuring handling of the above exception, another exception occurred:\n",
      "\u001b[1;31mOperationalError\u001b[0m                          Traceback (most recent call last)",
      "Cell \u001b[1;32mIn[48], line 1\u001b[0m\n\u001b[1;32m----> 1\u001b[0m conn\u001b[39m=\u001b[39mpymysql\u001b[39m.\u001b[39;49mconnect(host \u001b[39m=\u001b[39;49m \u001b[39m'\u001b[39;49m\u001b[39m127.0.0.1\u001b[39;49m\u001b[39m'\u001b[39;49m \u001b[39m# 连接名称，默认127.0.0.1\u001b[39;49;00m\n\u001b[0;32m      2\u001b[0m     ,user \u001b[39m=\u001b[39;49m \u001b[39m'\u001b[39;49m\u001b[39mroot\u001b[39;49m\u001b[39m'\u001b[39;49m \u001b[39m# 用户名\u001b[39;49;00m\n\u001b[0;32m      3\u001b[0m     ,passwd\u001b[39m=\u001b[39;49m\u001b[39m'\u001b[39;49m\u001b[39mpassword\u001b[39;49m\u001b[39m'\u001b[39;49m \u001b[39m# 密码\u001b[39;49;00m\n\u001b[0;32m      4\u001b[0m     ,port\u001b[39m=\u001b[39;49m \u001b[39m3306\u001b[39;49m \u001b[39m# 端口，默认为3306\u001b[39;49;00m\n\u001b[0;32m      5\u001b[0m     ,db\u001b[39m=\u001b[39;49m\u001b[39m'\u001b[39;49m\u001b[39mtest\u001b[39;49m\u001b[39m'\u001b[39;49m \u001b[39m# 数据库名称\u001b[39;49;00m\n\u001b[0;32m      6\u001b[0m     ,charset\u001b[39m=\u001b[39;49m\u001b[39m'\u001b[39;49m\u001b[39mutf8\u001b[39;49m\u001b[39m'\u001b[39;49m \u001b[39m# 字符编码\u001b[39;49;00m\n\u001b[0;32m      7\u001b[0m     )\n\u001b[0;32m      8\u001b[0m cur \u001b[39m=\u001b[39m conn\u001b[39m.\u001b[39mcursor() \u001b[39m# 生成游标对象\u001b[39;00m\n\u001b[0;32m      9\u001b[0m sql\u001b[39m=\u001b[39m\u001b[39m\"\u001b[39m\u001b[39mselect * from `student` \u001b[39m\u001b[39m\"\u001b[39m \u001b[39m# SQL语句\u001b[39;00m\n",
      "File \u001b[1;32mc:\\Users\\Administrator\\.conda\\envs\\finance39\\lib\\site-packages\\pymysql\\connections.py:358\u001b[0m, in \u001b[0;36mConnection.__init__\u001b[1;34m(self, user, password, host, database, unix_socket, port, charset, collation, sql_mode, read_default_file, conv, use_unicode, client_flag, cursorclass, init_command, connect_timeout, read_default_group, autocommit, local_infile, max_allowed_packet, defer_connect, auth_plugin_map, read_timeout, write_timeout, bind_address, binary_prefix, program_name, server_public_key, ssl, ssl_ca, ssl_cert, ssl_disabled, ssl_key, ssl_verify_cert, ssl_verify_identity, compress, named_pipe, passwd, db)\u001b[0m\n\u001b[0;32m    356\u001b[0m     \u001b[39mself\u001b[39m\u001b[39m.\u001b[39m_sock \u001b[39m=\u001b[39m \u001b[39mNone\u001b[39;00m\n\u001b[0;32m    357\u001b[0m \u001b[39melse\u001b[39;00m:\n\u001b[1;32m--> 358\u001b[0m     \u001b[39mself\u001b[39;49m\u001b[39m.\u001b[39;49mconnect()\n",
      "File \u001b[1;32mc:\\Users\\Administrator\\.conda\\envs\\finance39\\lib\\site-packages\\pymysql\\connections.py:711\u001b[0m, in \u001b[0;36mConnection.connect\u001b[1;34m(self, sock)\u001b[0m\n\u001b[0;32m    709\u001b[0m     \u001b[39mif\u001b[39;00m DEBUG:\n\u001b[0;32m    710\u001b[0m         \u001b[39mprint\u001b[39m(exc\u001b[39m.\u001b[39mtraceback)\n\u001b[1;32m--> 711\u001b[0m     \u001b[39mraise\u001b[39;00m exc\n\u001b[0;32m    713\u001b[0m \u001b[39m# If e is neither DatabaseError or IOError, It's a bug.\u001b[39;00m\n\u001b[0;32m    714\u001b[0m \u001b[39m# But raising AssertionError hides original error.\u001b[39;00m\n\u001b[0;32m    715\u001b[0m \u001b[39m# So just reraise it.\u001b[39;00m\n\u001b[0;32m    716\u001b[0m \u001b[39mraise\u001b[39;00m\n",
      "\u001b[1;31mOperationalError\u001b[0m: (2003, \"Can't connect to MySQL server on '127.0.0.1' ([WinError 10061] 由于目标计算机积极拒绝，无法连接。)\")"
     ]
    }
   ],
   "source": [
    "conn=pymysql.connect(host = '127.0.0.1' # 连接名称，默认127.0.0.1\n",
    "    ,user = 'root' # 用户名\n",
    "    ,passwd='password' # 密码\n",
    "    ,port= 3306 # 端口，默认为3306\n",
    "    ,db='test' # 数据库名称\n",
    "    ,charset='utf8' # 字符编码\n",
    "    )\n",
    "cur = conn.cursor() # 生成游标对象\n",
    "sql=\"select * from `student` \" # SQL语句\n",
    "cur.execute(sql) # 执行SQL语句\n",
    "data = cur.fetchall() # 通过fetchall方法获得数据\n",
    "for i in data[:2]: # 打印输出前2条数据\n",
    "    print (i)\n",
    "cur.close() # 关闭游标\n",
    "conn.close() # 关闭连接"
   ]
  }
 ],
 "metadata": {
  "kernelspec": {
   "display_name": "finance39",
   "language": "python",
   "name": "python3"
  },
  "language_info": {
   "codemirror_mode": {
    "name": "ipython",
    "version": 3
   },
   "file_extension": ".py",
   "mimetype": "text/x-python",
   "name": "python",
   "nbconvert_exporter": "python",
   "pygments_lexer": "ipython3",
   "version": "3.9.17"
  },
  "orig_nbformat": 4
 },
 "nbformat": 4,
 "nbformat_minor": 2
}
