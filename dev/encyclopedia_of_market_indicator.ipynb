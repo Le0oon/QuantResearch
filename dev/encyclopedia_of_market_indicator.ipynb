{
 "cells": [
  {
   "cell_type": "code",
   "execution_count": 1,
   "metadata": {},
   "outputs": [],
   "source": [
    "backtest_frame_path = 'D:/QuantAnalysis/backtest_frame'\n",
    "\n",
    "\n",
    "# backtest_frame_path = '../../backtest-frame'\n",
    "# data_path = \"../../data\"\n",
    "import pandas as pd\n",
    "import numpy as np\n",
    "import numpy.random as npr\n",
    "import matplotlib.pyplot as plt\n",
    "import seaborn as sns\n",
    "import os \n",
    "from scipy import stats\n",
    "import warnings\n",
    "warnings.filterwarnings('ignore')\n",
    "\n",
    "plt.rcParams['font.sans-serif'] = ['SimHei']  # 用来正常显示中文标签\n",
    "plt.rcParams['axes.unicode_minus'] = False  # 用来正常显示负号\n",
    "plt.rcParams['font.size'] = '20' # 设置字体大小 \n",
    "sns.set()\n",
    "\n",
    "from IPython.core.interactiveshell import InteractiveShell\n",
    "InteractiveShell.ast_node_interactivity = \"all\"\n",
    "import warnings\n",
    "warnings.filterwarnings('ignore')\n",
    "\n",
    "from tqdm import tqdm\n",
    "import sys \n",
    "sys.path.append(backtest_frame_path)\n",
    "import numba\n",
    "\n",
    "from datetime import datetime\n",
    "from tqdm import tqdm\n",
    "from multiprocessing import Pool,cpu_count\n",
    "try: \n",
    "    import my_config as config\n",
    "except:\n",
    "    import config\n",
    "    print('Failed to import module my_config.py, use default config file.')\n",
    "\n",
    "data_path = config.data_path"
   ]
  },
  {
   "cell_type": "code",
   "execution_count": 2,
   "metadata": {},
   "outputs": [],
   "source": [
    "from TDayProcessor import TDayProcessor\n",
    "# TDayProcessor.data_path = data_path\n",
    "from TimingFactor import TimingFactor\n",
    "from BackTest import BackTest\n",
    "from Factor import Factor\n",
    "from Data import Data\n",
    "from NumbaFuncs import NumbaFuncs\n",
    "from TushareDownloader import TushareDownloader\n",
    "from ScreenFactor import ScreenFactor, Alpha101\n",
    "from EventStudy import EventStudy\n",
    "from utils import *\n",
    "\n",
    "\n",
    "%load_ext autoreload\n",
    "%autoreload 2\n",
    "%matplotlib inline\n",
    "\n",
    "date_col = 'TradingDay'\n",
    "secu_col = 'SecuCode'\n",
    "key_col = [date_col,secu_col]"
   ]
  },
  {
   "cell_type": "markdown",
   "metadata": {},
   "source": [
    "# 数据读取"
   ]
  },
  {
   "cell_type": "code",
   "execution_count": 3,
   "metadata": {},
   "outputs": [
    {
     "ename": "HDF5ExtError",
     "evalue": "HDF5 error back trace\n\n  File \"C:\\ci\\hdf5_1655191106204\\work\\src\\H5F.c\", line 620, in H5Fopen\n    unable to open file\n  File \"C:\\ci\\hdf5_1655191106204\\work\\src\\H5VLcallback.c\", line 3502, in H5VL_file_open\n    failed to iterate over available VOL connector plugins\n  File \"C:\\ci\\hdf5_1655191106204\\work\\src\\H5PLpath.c\", line 579, in H5PL__path_table_iterate\n    can't iterate over plugins in plugin path '(null)'\n  File \"C:\\ci\\hdf5_1655191106204\\work\\src\\H5PLpath.c\", line 712, in H5PL__path_table_iterate_process_path\n    can't open directory\n  File \"C:\\ci\\hdf5_1655191106204\\work\\src\\H5VLcallback.c\", line 3351, in H5VL__file_open\n    open failed\n  File \"C:\\ci\\hdf5_1655191106204\\work\\src\\H5VLnative_file.c\", line 97, in H5VL__native_file_open\n    unable to open file\n  File \"C:\\ci\\hdf5_1655191106204\\work\\src\\H5Fint.c\", line 1898, in H5F_open\n    unable to lock the file\n  File \"C:\\ci\\hdf5_1655191106204\\work\\src\\H5FD.c\", line 1625, in H5FD_lock\n    driver lock request failed\n  File \"C:\\ci\\hdf5_1655191106204\\work\\src\\H5FDsec2.c\", line 1002, in H5FD__sec2_lock\n    unable to lock file, errno = 0, error message = 'No error', Win32 GetLastError() = 33\n\nEnd of HDF5 error back trace\n\nUnable to open/create file 'F:/base_data/daily_df.h5'",
     "output_type": "error",
     "traceback": [
      "\u001b[1;31m---------------------------------------------------------------------------\u001b[0m",
      "\u001b[1;31mHDF5ExtError\u001b[0m                              Traceback (most recent call last)",
      "\u001b[1;32md:\\QuantAnalysis\\QuantResearch\\dev\\encyclopedia_of_market_indicator.ipynb Cell 4\u001b[0m in \u001b[0;36m<cell line: 1>\u001b[1;34m()\u001b[0m\n\u001b[1;32m----> <a href='vscode-notebook-cell:/d%3A/QuantAnalysis/QuantResearch/dev/encyclopedia_of_market_indicator.ipynb#W4sZmlsZQ%3D%3D?line=0'>1</a>\u001b[0m DB \u001b[39m=\u001b[39m Data(data_path,start_dt\u001b[39m=\u001b[39;49m\u001b[39m\"\u001b[39;49m\u001b[39m2019-01-01\u001b[39;49m\u001b[39m\"\u001b[39;49m,update\u001b[39m=\u001b[39;49m\u001b[39mFalse\u001b[39;49;00m)\n",
      "File \u001b[1;32mD:\\QuantAnalysis/backtest_frame\\Data.py:63\u001b[0m, in \u001b[0;36mData.__init__\u001b[1;34m(self, data_path, start_dt, update, update_all)\u001b[0m\n\u001b[0;32m     60\u001b[0m     \u001b[39mself\u001b[39m\u001b[39m.\u001b[39mhsgt_df\n\u001b[0;32m     62\u001b[0m \u001b[39melse\u001b[39;00m:\n\u001b[1;32m---> 63\u001b[0m     \u001b[39mself\u001b[39;49m\u001b[39m.\u001b[39;49mdaily_df\n\u001b[0;32m     64\u001b[0m     \u001b[39mself\u001b[39m\u001b[39m.\u001b[39mstock_basic_df\n\u001b[0;32m     65\u001b[0m     \u001b[39mself\u001b[39m\u001b[39m.\u001b[39mdaily_basic_df\n",
      "File \u001b[1;32mD:\\QuantAnalysis/backtest_frame\\Data.py:119\u001b[0m, in \u001b[0;36mData.daily_df\u001b[1;34m(self)\u001b[0m\n\u001b[0;32m    114\u001b[0m \u001b[39mif\u001b[39;00m \u001b[39mself\u001b[39m\u001b[39m.\u001b[39mupdate \u001b[39mor\u001b[39;00m (\u001b[39mnot\u001b[39;00m os\u001b[39m.\u001b[39mpath\u001b[39m.\u001b[39mexists(file_path)):\n\u001b[0;32m    115\u001b[0m     Data\u001b[39m.\u001b[39m__download_daily_wrapper(\n\u001b[0;32m    116\u001b[0m         TushareDownloader\u001b[39m.\u001b[39mdownload_daily_price, \u001b[39mself\u001b[39m\u001b[39m.\u001b[39mstart_dt, \u001b[39mself\u001b[39m\u001b[39m.\u001b[39mdata_path, \u001b[39m'\u001b[39m\u001b[39mdaily_df.h5\u001b[39m\u001b[39m'\u001b[39m\n\u001b[0;32m    117\u001b[0m     )\n\u001b[1;32m--> 119\u001b[0m daily_df \u001b[39m=\u001b[39m HDFReader(file_path)\n\u001b[0;32m    120\u001b[0m daily_df \u001b[39m=\u001b[39m daily_df\u001b[39m.\u001b[39msort_values(\n\u001b[0;32m    121\u001b[0m     by\u001b[39m=\u001b[39m[\u001b[39m\"\u001b[39m\u001b[39mTradingDay\u001b[39m\u001b[39m\"\u001b[39m, \u001b[39m\"\u001b[39m\u001b[39mSecuCode\u001b[39m\u001b[39m\"\u001b[39m]\n\u001b[0;32m    122\u001b[0m )\u001b[39m.\u001b[39mdrop_duplicates(subset\u001b[39m=\u001b[39m[\u001b[39m\"\u001b[39m\u001b[39mTradingDay\u001b[39m\u001b[39m\"\u001b[39m, \u001b[39m\"\u001b[39m\u001b[39mSecuCode\u001b[39m\u001b[39m\"\u001b[39m], keep\u001b[39m=\u001b[39m\u001b[39m'\u001b[39m\u001b[39mlast\u001b[39m\u001b[39m'\u001b[39m)\n\u001b[0;32m    123\u001b[0m daily_df\u001b[39m.\u001b[39msort_values([\u001b[39m'\u001b[39m\u001b[39mTradingDay\u001b[39m\u001b[39m'\u001b[39m, \u001b[39m'\u001b[39m\u001b[39mSecuCode\u001b[39m\u001b[39m'\u001b[39m], inplace\u001b[39m=\u001b[39m\u001b[39mTrue\u001b[39;00m)\n",
      "File \u001b[1;32mD:\\QuantAnalysis/backtest_frame\\utils.py:29\u001b[0m, in \u001b[0;36mHDFReader\u001b[1;34m(fpath, sort_by)\u001b[0m\n\u001b[0;32m     27\u001b[0m     \u001b[39mprint\u001b[39m(\u001b[39mf\u001b[39m\u001b[39m'\u001b[39m\u001b[39mFile: \u001b[39m\u001b[39m{\u001b[39;00mfpath\u001b[39m}\u001b[39;00m\u001b[39m not exist.\u001b[39m\u001b[39m'\u001b[39m)\n\u001b[0;32m     28\u001b[0m     \u001b[39mreturn\u001b[39;00m\n\u001b[1;32m---> 29\u001b[0m \u001b[39mwith\u001b[39;00m pd\u001b[39m.\u001b[39;49mHDFStore(fpath) \u001b[39mas\u001b[39;00m hdf:\n\u001b[0;32m     30\u001b[0m     keys \u001b[39m=\u001b[39m hdf\u001b[39m.\u001b[39mkeys()\n\u001b[0;32m     31\u001b[0m df \u001b[39m=\u001b[39m pd\u001b[39m.\u001b[39mconcat([pd\u001b[39m.\u001b[39mread_hdf(fpath, key\u001b[39m=\u001b[39mk) \u001b[39mfor\u001b[39;00m k \u001b[39min\u001b[39;00m keys])\n",
      "File \u001b[1;32mf:\\MiniConda\\lib\\site-packages\\pandas\\io\\pytables.py:591\u001b[0m, in \u001b[0;36mHDFStore.__init__\u001b[1;34m(self, path, mode, complevel, complib, fletcher32, **kwargs)\u001b[0m\n\u001b[0;32m    589\u001b[0m \u001b[39mself\u001b[39m\u001b[39m.\u001b[39m_fletcher32 \u001b[39m=\u001b[39m fletcher32\n\u001b[0;32m    590\u001b[0m \u001b[39mself\u001b[39m\u001b[39m.\u001b[39m_filters \u001b[39m=\u001b[39m \u001b[39mNone\u001b[39;00m\n\u001b[1;32m--> 591\u001b[0m \u001b[39mself\u001b[39m\u001b[39m.\u001b[39mopen(mode\u001b[39m=\u001b[39mmode, \u001b[39m*\u001b[39m\u001b[39m*\u001b[39mkwargs)\n",
      "File \u001b[1;32mf:\\MiniConda\\lib\\site-packages\\pandas\\io\\pytables.py:740\u001b[0m, in \u001b[0;36mHDFStore.open\u001b[1;34m(self, mode, **kwargs)\u001b[0m\n\u001b[0;32m    734\u001b[0m     msg \u001b[39m=\u001b[39m (\n\u001b[0;32m    735\u001b[0m         \u001b[39m\"\u001b[39m\u001b[39mCannot open HDF5 file, which is already opened, \u001b[39m\u001b[39m\"\u001b[39m\n\u001b[0;32m    736\u001b[0m         \u001b[39m\"\u001b[39m\u001b[39meven in read-only mode.\u001b[39m\u001b[39m\"\u001b[39m\n\u001b[0;32m    737\u001b[0m     )\n\u001b[0;32m    738\u001b[0m     \u001b[39mraise\u001b[39;00m \u001b[39mValueError\u001b[39;00m(msg)\n\u001b[1;32m--> 740\u001b[0m \u001b[39mself\u001b[39m\u001b[39m.\u001b[39m_handle \u001b[39m=\u001b[39m tables\u001b[39m.\u001b[39mopen_file(\u001b[39mself\u001b[39m\u001b[39m.\u001b[39m_path, \u001b[39mself\u001b[39m\u001b[39m.\u001b[39m_mode, \u001b[39m*\u001b[39m\u001b[39m*\u001b[39mkwargs)\n",
      "File \u001b[1;32mf:\\MiniConda\\lib\\site-packages\\tables\\file.py:300\u001b[0m, in \u001b[0;36mopen_file\u001b[1;34m(filename, mode, title, root_uep, filters, **kwargs)\u001b[0m\n\u001b[0;32m    295\u001b[0m             \u001b[39mraise\u001b[39;00m \u001b[39mValueError\u001b[39;00m(\n\u001b[0;32m    296\u001b[0m                 \u001b[39m\"\u001b[39m\u001b[39mThe file \u001b[39m\u001b[39m'\u001b[39m\u001b[39m%s\u001b[39;00m\u001b[39m'\u001b[39m\u001b[39m is already opened.  Please \u001b[39m\u001b[39m\"\u001b[39m\n\u001b[0;32m    297\u001b[0m                 \u001b[39m\"\u001b[39m\u001b[39mclose it before reopening in write mode.\u001b[39m\u001b[39m\"\u001b[39m \u001b[39m%\u001b[39m filename)\n\u001b[0;32m    299\u001b[0m \u001b[39m# Finally, create the File instance, and return it\u001b[39;00m\n\u001b[1;32m--> 300\u001b[0m \u001b[39mreturn\u001b[39;00m File(filename, mode, title, root_uep, filters, \u001b[39m*\u001b[39m\u001b[39m*\u001b[39mkwargs)\n",
      "File \u001b[1;32mf:\\MiniConda\\lib\\site-packages\\tables\\file.py:750\u001b[0m, in \u001b[0;36mFile.__init__\u001b[1;34m(self, filename, mode, title, root_uep, filters, **kwargs)\u001b[0m\n\u001b[0;32m    747\u001b[0m \u001b[39mself\u001b[39m\u001b[39m.\u001b[39mparams \u001b[39m=\u001b[39m params\n\u001b[0;32m    749\u001b[0m \u001b[39m# Now, it is time to initialize the File extension\u001b[39;00m\n\u001b[1;32m--> 750\u001b[0m \u001b[39mself\u001b[39m\u001b[39m.\u001b[39m_g_new(filename, mode, \u001b[39m*\u001b[39m\u001b[39m*\u001b[39mparams)\n\u001b[0;32m    752\u001b[0m \u001b[39m# Check filters and set PyTables format version for new files.\u001b[39;00m\n\u001b[0;32m    753\u001b[0m new \u001b[39m=\u001b[39m \u001b[39mself\u001b[39m\u001b[39m.\u001b[39m_v_new\n",
      "File \u001b[1;32mf:\\MiniConda\\lib\\site-packages\\tables\\hdf5extension.pyx:484\u001b[0m, in \u001b[0;36mtables.hdf5extension.File._g_new\u001b[1;34m()\u001b[0m\n",
      "\u001b[1;31mHDF5ExtError\u001b[0m: HDF5 error back trace\n\n  File \"C:\\ci\\hdf5_1655191106204\\work\\src\\H5F.c\", line 620, in H5Fopen\n    unable to open file\n  File \"C:\\ci\\hdf5_1655191106204\\work\\src\\H5VLcallback.c\", line 3502, in H5VL_file_open\n    failed to iterate over available VOL connector plugins\n  File \"C:\\ci\\hdf5_1655191106204\\work\\src\\H5PLpath.c\", line 579, in H5PL__path_table_iterate\n    can't iterate over plugins in plugin path '(null)'\n  File \"C:\\ci\\hdf5_1655191106204\\work\\src\\H5PLpath.c\", line 712, in H5PL__path_table_iterate_process_path\n    can't open directory\n  File \"C:\\ci\\hdf5_1655191106204\\work\\src\\H5VLcallback.c\", line 3351, in H5VL__file_open\n    open failed\n  File \"C:\\ci\\hdf5_1655191106204\\work\\src\\H5VLnative_file.c\", line 97, in H5VL__native_file_open\n    unable to open file\n  File \"C:\\ci\\hdf5_1655191106204\\work\\src\\H5Fint.c\", line 1898, in H5F_open\n    unable to lock the file\n  File \"C:\\ci\\hdf5_1655191106204\\work\\src\\H5FD.c\", line 1625, in H5FD_lock\n    driver lock request failed\n  File \"C:\\ci\\hdf5_1655191106204\\work\\src\\H5FDsec2.c\", line 1002, in H5FD__sec2_lock\n    unable to lock file, errno = 0, error message = 'No error', Win32 GetLastError() = 33\n\nEnd of HDF5 error back trace\n\nUnable to open/create file 'F:/base_data/daily_df.h5'"
     ]
    }
   ],
   "source": [
    "DB = Data(data_path,start_dt=\"2019-01-01\",update=False)"
   ]
  }
 ],
 "metadata": {
  "kernelspec": {
   "display_name": "base",
   "language": "python",
   "name": "python3"
  },
  "language_info": {
   "codemirror_mode": {
    "name": "ipython",
    "version": 3
   },
   "file_extension": ".py",
   "mimetype": "text/x-python",
   "name": "python",
   "nbconvert_exporter": "python",
   "pygments_lexer": "ipython3",
   "version": "3.9.7"
  },
  "orig_nbformat": 4
 },
 "nbformat": 4,
 "nbformat_minor": 2
}
